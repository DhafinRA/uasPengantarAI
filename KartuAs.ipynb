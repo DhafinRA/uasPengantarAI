{
 "cells": [
  {
   "cell_type": "code",
   "execution_count": 80,
   "id": "6adc8810",
   "metadata": {},
   "outputs": [],
   "source": [
    "import pandas as pd\n",
    "\n",
    "import warnings\n",
    "warnings.filterwarnings('ignore')\n",
    "\n",
    "from keras.callbacks import EarlyStopping, TensorBoard\n",
    "from keras.layers import Dense\n",
    "from keras.models import Sequential\n",
    "from sklearn.model_selection import train_test_split\n",
    "from sklearn.preprocessing import LabelEncoder, OneHotEncoder\n",
    "from sklearn.preprocessing import StandardScaler\n",
    "\n",
    "from tqdm import tqdm\n",
    "import numpy as np\n",
    "import random\n",
    "import pickle as pkl\n",
    "\n",
    "import matplotlib.pyplot as plt"
   ]
  },
  {
   "cell_type": "code",
   "execution_count": 81,
   "id": "1cd9e4ac",
   "metadata": {},
   "outputs": [],
   "source": [
    "dataset = pd.read_csv('DataTrainingCopy.csv')\n",
    "y_train = dataset['target']\n",
    "x_train = dataset.drop(labels =['target'],axis=1)\n",
    "\n",
    "ohe = OneHotEncoder()\n",
    "le = LabelEncoder()\n",
    "\n",
    "cols = x_train.columns.values\n",
    "for col in cols:\n",
    "    x_train[col] = le.fit_transform(x_train[col])\n",
    "\n",
    "y_train = le.fit_transform(y_train)\n",
    "\n",
    "ohe = OneHotEncoder()\n",
    "x_train = ohe.fit_transform(x_train).toarray()\n",
    "sc = StandardScaler()\n",
    "x_train = sc.fit_transform(x_train)\n",
    "\n",
    "\n",
    "x_train, x_test, y_train, y_test = train_test_split(x_train,y_train, test_size = 0.30, random_state = 42)\n",
    "x_valid, x_test, y_valid, y_test = train_test_split(x_test,y_test, test_size = 0.50, random_state = 42)"
   ]
  },
  {
   "cell_type": "code",
   "execution_count": 82,
   "id": "c42337f9",
   "metadata": {},
   "outputs": [],
   "source": [
    "def sigmoid(x):\n",
    "    return 1/(1 + np.exp(-x)) \n",
    "\n",
    "def relu(x):\n",
    "    return np.maximum(0, x)\n",
    "\n",
    "def forward(x, w, activation):\n",
    "    return activation(np.matmul(x, w))\n",
    "\n",
    "def accuracy_fn(y, y_hat):\n",
    "    return (np.where(y == y_hat)[0].size / y_hat.size)\n",
    "\n",
    "def predict(x, y_hat, weights, activation):\n",
    "    predictions = np.zeros(shape=(x.shape[0]))\n",
    "    \n",
    "    for idx in range(x.shape[0]):\n",
    "        r1 = x[idx, :]\n",
    "        for curr_weights in weights:\n",
    "            r1 = forward(r1, curr_weights, activation)\n",
    "        predictions[idx] = np.where(r1 == np.max(r1))[0][0]\n",
    "\n",
    "    accuracy = accuracy_fn(predictions, y_hat)\n",
    "    return accuracy, predictions\n",
    "    \n",
    "def fitness(x, y_hat, weights, activation):\n",
    "    accuracy = np.empty(shape=(weights.shape[0]))\n",
    "    for idx in range(weights.shape[0]):\n",
    "        accuracy[idx], _ = predict(x, y_hat, weights[idx, :], activation)\n",
    "    return accuracy"
   ]
  },
  {
   "cell_type": "code",
   "execution_count": 83,
   "id": "0069263c",
   "metadata": {},
   "outputs": [],
   "source": [
    "def mat_to_vector(mat_pop_weights):\n",
    "    weights_vector = []\n",
    "    for idx in range(mat_pop_weights.shape[0]):\n",
    "        curr_vector = []\n",
    "        for layer_idx in range(mat_pop_weights.shape[1]):\n",
    "            vector_weights = np.reshape(mat_pop_weights[idx, layer_idx], newshape=(mat_pop_weights[idx, layer_idx].size))\n",
    "            curr_vector.extend(vector_weights)\n",
    "        weights_vector.append(curr_vector)\n",
    "    return np.array(weights_vector)\n",
    "\n",
    "\n",
    "def vector_to_mat(vector_weights, mat_pop_weights):\n",
    "    mat_weights = []\n",
    "    for idx in range(mat_pop_weights.shape[0]):\n",
    "        start = 0\n",
    "        end = 0\n",
    "        for layer_idx in range(mat_pop_weights.shape[1]):\n",
    "            end = end + mat_pop_weights[idx, layer_idx].size\n",
    "            curr_vector = vector_weights[idx, start:end]\n",
    "            mat_layer_weights = np.reshape(curr_vector, newshape=(mat_pop_weights[idx, layer_idx].shape))\n",
    "            mat_weights.append(mat_layer_weights)\n",
    "            start = end\n",
    "    return np.reshape(mat_weights, newshape=mat_pop_weights.shape)"
   ]
  },
  {
   "cell_type": "code",
   "execution_count": 84,
   "id": "6174a5c0",
   "metadata": {},
   "outputs": [],
   "source": [
    "def mating_pool(pop, fitness, num_parents):\n",
    "    parents = np.empty((num_parents, pop.shape[1]))\n",
    "    for parent_num in range(num_parents):\n",
    "        max_fitness_idx = np.where(fitness == np.max(fitness))\n",
    "        max_fitness_idx = max_fitness_idx[0][0]\n",
    "        parents[parent_num, :] = pop[max_fitness_idx, :]\n",
    "        fitness[max_fitness_idx] = -99\n",
    "    return parents\n",
    "\n",
    "\n",
    "def crossover(parents, offspring_size):\n",
    "    offspring = np.empty(offspring_size)\n",
    "    crossover_point = np.uint32(offspring_size[1]/2)\n",
    "\n",
    "    for k in range(offspring_size[0]):\n",
    "        \n",
    "        parent1_idx = k%parents.shape[0]\n",
    "        parent2_idx = (k+1)%parents.shape[0]\n",
    "        \n",
    "        offspring[k, 0:crossover_point] = parents[parent1_idx, 0:crossover_point]\n",
    "        offspring[k, crossover_point:] = parents[parent2_idx, crossover_point:]\n",
    "        \n",
    "    return offspring\n",
    "\n",
    "\n",
    "def mutation(offspring_crossover, mutation_percent):\n",
    "    num_mutations = np.uint32((mutation_percent*offspring_crossover.shape[1]))\n",
    "    mutation_indices = np.array(random.sample(range(0, offspring_crossover.shape[1]), num_mutations))\n",
    "    \n",
    "    for idx in range(offspring_crossover.shape[0]):\n",
    "        random_value = np.random.uniform(-1.0, 1.0, 1)\n",
    "        offspring_crossover[idx, mutation_indices] = offspring_crossover[idx, mutation_indices] + random_value\n",
    "    \n",
    "    return offspring_crossover"
   ]
  },
  {
   "cell_type": "code",
   "execution_count": 85,
   "id": "053de82b",
   "metadata": {},
   "outputs": [],
   "source": [
    "solution_per_population = 8\n",
    "num_parents_mating = 4\n",
    "num_generations = 100\n",
    "mutation_percent = 0.20"
   ]
  },
  {
   "cell_type": "code",
   "execution_count": 86,
   "id": "0fa90079",
   "metadata": {},
   "outputs": [],
   "source": [
    "input_shape = x_train.shape[1]\n",
    "output_shape = len(np.unique(y_train))"
   ]
  },
  {
   "cell_type": "code",
   "execution_count": 87,
   "id": "86860af8",
   "metadata": {},
   "outputs": [],
   "source": [
    "initial_weights = []\n",
    "for curr_sol in np.arange(0, solution_per_population):\n",
    "    \n",
    "    w1 = np.random.uniform(low=-0.1, high=0.1, size=(input_shape, 128))\n",
    "\n",
    "    initial_weights.append(np.array([w1]))"
   ]
  },
  {
   "cell_type": "code",
   "execution_count": 88,
   "id": "ba75ead4",
   "metadata": {},
   "outputs": [],
   "source": [
    "weights_mat = np.array(initial_weights)\n",
    "weights_vector = mat_to_vector(weights_mat)\n",
    "\n",
    "best_outputs = []\n",
    "accuracies = np.empty(shape=(num_generations))"
   ]
  },
  {
   "cell_type": "code",
   "execution_count": 89,
   "id": "5ffa710c",
   "metadata": {},
   "outputs": [
    {
     "name": "stderr",
     "output_type": "stream",
     "text": [
      "100%|████████████████████████████████████████████████████████████████████████████████| 100/100 [00:46<00:00,  2.16it/s]\n"
     ]
    }
   ],
   "source": [
    "for generation in tqdm(range(num_generations)):\n",
    "\n",
    "    # vector to matrix\n",
    "    weights_mat = vector_to_mat(weights_vector, weights_mat)\n",
    "\n",
    "    # fitness of the population\n",
    "    fit = fitness(x_train, y_train, weights_mat, activation=sigmoid)\n",
    "    \n",
    "    # assign first fitness to the array\n",
    "    accuracies[generation] = fit[0]\n",
    "\n",
    "    # selecting mating parents from pool\n",
    "    parents = mating_pool(weights_vector, fit.copy(), num_parents_mating)\n",
    "\n",
    "    # generate new population using crossover\n",
    "    offspring_crossover = crossover(parents, offspring_size=(weights_vector.shape[0]-parents.shape[0], weights_vector.shape[1]))\n",
    "\n",
    "    # adding mutation to the population\n",
    "    offspring_mutation = mutation(offspring_crossover, mutation_percent=mutation_percent)\n",
    "    \n",
    "    # new population combining parents of crossver and mut\n",
    "    weights_vector[0:parents.shape[0], :] = parents\n",
    "    weights_vector[parents.shape[0]:, :] = offspring_mutation"
   ]
  },
  {
   "cell_type": "code",
   "execution_count": 90,
   "id": "5c2706b6",
   "metadata": {},
   "outputs": [
    {
     "name": "stdout",
     "output_type": "stream",
     "text": [
      "Accuracy of the best solution is :  0.17732558139534885\n"
     ]
    }
   ],
   "source": [
    "weights_mat = vector_to_mat(weights_vector, weights_mat)\n",
    "best_weights = weights_mat [0, :]\n",
    "acc, predictions = predict(x_train, y_train, best_weights, sigmoid)\n",
    "print(\"Accuracy of the best solution is : \", acc)"
   ]
  },
  {
   "cell_type": "code",
   "execution_count": 91,
   "id": "7bf070eb",
   "metadata": {},
   "outputs": [
    {
     "data": {
      "image/png": "[encoded data removed]",
      "text/plain": [
       "<Figure size 640x480 with 1 Axes>"
      ]
     },
     "metadata": {},
     "output_type": "display_data"
    }
   ],
   "source": [
    "plt.plot(accuracies)\n",
    "plt.xlabel(\"Iteration\", fontsize=15)\n",
    "plt.ylabel(\"Fitness\", fontsize=15)\n",
    "plt.xticks(np.arange(0, num_generations+1, 100))\n",
    "plt.yticks(np.arange(0, 1, 0.1))\n",
    "plt.show()"
   ]
  },
  {
   "cell_type": "code",
   "execution_count": 92,
   "id": "9d2efa3f",
   "metadata": {},
   "outputs": [
    {
     "name": "stdout",
     "output_type": "stream",
     "text": [
      "Accuracy of the best solution is :  0.0945945945945946\n"
     ]
    }
   ],
   "source": [
    "weights_mat = vector_to_mat(weights_vector, weights_mat)\n",
    "best_weights = weights_mat [0, :]\n",
    "acc, predictions = predict(x_test, y_test, best_weights, sigmoid)\n",
    "print(\"Accuracy of the best solution is : \", acc)"
   ]
  }
 ],
 "metadata": {
  "kernelspec": {
   "display_name": "Python 3 (ipykernel)",
   "language": "python",
   "name": "python3"
  },
  "language_info": {
   "codemirror_mode": {
    "name": "ipython",
    "version": 3
   },
   "file_extension": ".py",
   "mimetype": "text/x-python",
   "name": "python",
   "nbconvert_exporter": "python",
   "pygments_lexer": "ipython3",
   "version": "3.10.0"
  }
 },
 "nbformat": 4,
 "nbformat_minor": 5
}
