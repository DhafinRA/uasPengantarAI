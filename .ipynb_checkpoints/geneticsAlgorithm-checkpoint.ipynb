{
 "cells": [
  {
   "cell_type": "code",
   "execution_count": 3,
   "id": "a05f17f3",
   "metadata": {},
   "outputs": [
    {
     "name": "stdout",
     "output_type": "stream",
     "text": [
      "                 ID      DATOP     FLTID DEPSTN ARRSTN              STD   \n",
      "0        train_id_0   1/3/2016  TU 0712     CMN    TUN   1/3/2016 10:30  \\\n",
      "1        train_id_1  1/13/2016  TU 0757     MXP    TUN  1/13/2016 15:05   \n",
      "2        train_id_2  1/16/2016  TU 0214     TUN    IST   1/16/2016 4:10   \n",
      "3        train_id_3  1/17/2016  TU 0480     DJE    NTE  1/17/2016 14:10   \n",
      "4        train_id_4  1/17/2016  TU 0338     TUN    ALG  1/17/2016 14:30   \n",
      "...             ...        ...       ...    ...    ...              ...   \n",
      "1994  train_id_1994   6/6/2016  TU 0725     ORY    TUN    6/6/2016 6:00   \n",
      "1995  train_id_1995   6/6/2016  TU 0711     TUN    CMN    6/6/2016 7:00   \n",
      "1996  train_id_1996   6/6/2016  TU 0744     TUN    FRA    6/6/2016 6:55   \n",
      "1997  train_id_1997   6/6/2016  TU 0716     TUN    ORY    6/6/2016 6:50   \n",
      "1998  train_id_1998   6/6/2016  TU 0463     LYS    MIR    6/6/2016 7:50   \n",
      "\n",
      "                      STA STATUS         AC  target  \n",
      "0     2016-01-03 12.55.00    ATA  TU 32AIMN     260  \n",
      "1     2016-01-13 16.55.00    ATA  TU 31BIMO      20  \n",
      "2     2016-01-16 06.45.00    ATA  TU 32AIMN       0  \n",
      "3     2016-01-17 17.00.00    ATA  TU 736IOK       0  \n",
      "4     2016-01-17 15.50.00    ATA  TU 320IMU      22  \n",
      "...                   ...    ...        ...     ...  \n",
      "1994  2016-06-06 08.25.00    ATA  TU 32AIMP      36  \n",
      "1995  2016-06-06 09.40.00    ATA  TU 32AIML       0  \n",
      "1996  2016-06-06 09.30.00    ATA  TU 736IOL       0  \n",
      "1997  2016-06-06 09.10.00    ATA  TU 32AIMG      23  \n",
      "1998  2016-06-06 09.55.00    ATA  TU 736IOK       0  \n",
      "\n",
      "[1999 rows x 10 columns]\n"
     ]
    }
   ],
   "source": [
    "import pandas as pd\n",
    "\n",
    "dataTrainingAwal = pd.read_csv(\"DataTraining.csv\")\n",
    "dataUjiAwal = pd.read_csv(\"DataUji.csv\")\n",
    "\n",
    "print(dataTrainingAwal)\n",
    "print(dataUjiAwal)"
   ]
  }
 ],
 "metadata": {
  "kernelspec": {
   "display_name": "Python 3 (ipykernel)",
   "language": "python",
   "name": "python3"
  },
  "language_info": {
   "codemirror_mode": {
    "name": "ipython",
    "version": 3
   },
   "file_extension": ".py",
   "mimetype": "text/x-python",
   "name": "python",
   "nbconvert_exporter": "python",
   "pygments_lexer": "ipython3",
   "version": "3.10.0"
  }
 },
 "nbformat": 4,
 "nbformat_minor": 5
}
